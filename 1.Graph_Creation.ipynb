{
 "cells": [
  {
   "cell_type": "code",
   "id": "initial_id",
   "metadata": {
    "collapsed": true,
    "ExecuteTime": {
     "end_time": "2024-04-11T09:19:27.101819Z",
     "start_time": "2024-04-11T09:19:26.658699Z"
    }
   },
   "source": [
    "import igraph as ig\n",
    "import matplotlib.pyplot as plt"
   ],
   "outputs": [],
   "execution_count": 1
  },
  {
   "metadata": {},
   "cell_type": "markdown",
   "source": [
    "## Creating Graph by Hand\n",
    "\n",
    "For creating a basic graph we need to specify the number of nodes and an edge list.\n",
    "\n",
    "> Edges are list of tuples\n",
    "\n",
    "`Graph(n_vertices, edges)` is the call to the constructor.\n",
    "\n",
    "To specify a directed or undirected graph simply pass `directed=True` to the constructor. (default is `False`)\n",
    "\n",
    "There is also a build in function to plot a graph: `plot(graph_name)`.\n",
    "\n",
    "As we specify vertexes and edges we can use `Integers` o `Strings` as node ids.\n",
    "\n",
    "> If we use `Strings` is easier to add `nodes` and `edges` with `add_vertices()`, `add_vertices` instead of passing them directly\n",
    "through the constructor."
   ],
   "id": "a47d7cd8f0aebc6a"
  },
  {
   "metadata": {
    "ExecuteTime": {
     "end_time": "2024-04-11T09:19:27.115539Z",
     "start_time": "2024-04-11T09:19:27.103836Z"
    }
   },
   "cell_type": "code",
   "source": [
    "#Creating a Star like graph using Integers\n",
    "edges = [(0, 1), (0, 2), (0, 3), (0, 4)]\n",
    "int_graph = ig.Graph(edges,directed=True)\n",
    "ig.plot(int_graph)"
   ],
   "id": "f1371d5a656bd360",
   "outputs": [
    {
     "data": {
      "text/plain": [
       "<igraph.drawing.cairo.plot.CairoPlot at 0x709f90943d10>"
      ],
      "image/svg+xml": "<?xml version=\"1.0\" encoding=\"UTF-8\"?>\n<svg xmlns=\"http://www.w3.org/2000/svg\" xmlns:xlink=\"http://www.w3.org/1999/xlink\" width=\"600\" height=\"600\" viewBox=\"0 0 600 600\">\n<rect x=\"-60\" y=\"-60\" width=\"720\" height=\"720\" fill=\"rgb(100%, 100%, 100%)\" fill-opacity=\"1\"/>\n<path fill=\"none\" stroke-width=\"1\" stroke-linecap=\"butt\" stroke-linejoin=\"miter\" stroke=\"rgb(26.666667%, 26.666667%, 26.666667%)\" stroke-opacity=\"1\" stroke-miterlimit=\"10\" d=\"M 300.011719 300.023438 L 561.140625 88.628906 \"/>\n<path fill-rule=\"nonzero\" fill=\"rgb(26.666667%, 26.666667%, 26.666667%)\" fill-opacity=\"1\" d=\"M 572.226562 79.65625 L 564.054688 92.234375 L 558.222656 85.027344 L 572.226562 79.65625 \"/>\n<path fill=\"none\" stroke-width=\"1\" stroke-linecap=\"butt\" stroke-linejoin=\"miter\" stroke=\"rgb(26.666667%, 26.666667%, 26.666667%)\" stroke-opacity=\"1\" stroke-miterlimit=\"10\" d=\"M 300.011719 300.023438 L 511.535156 561.144531 \"/>\n<path fill-rule=\"nonzero\" fill=\"rgb(26.666667%, 26.666667%, 26.666667%)\" fill-opacity=\"1\" d=\"M 520.515625 572.230469 L 507.933594 564.0625 L 515.136719 558.226562 L 520.515625 572.230469 \"/>\n<path fill=\"none\" stroke-width=\"1\" stroke-linecap=\"butt\" stroke-linejoin=\"miter\" stroke=\"rgb(26.666667%, 26.666667%, 26.666667%)\" stroke-opacity=\"1\" stroke-miterlimit=\"10\" d=\"M 300.011719 300.023438 L 88.585938 38.859375 \"/>\n<path fill-rule=\"nonzero\" fill=\"rgb(26.666667%, 26.666667%, 26.666667%)\" fill-opacity=\"1\" d=\"M 79.609375 27.773438 L 92.191406 35.945312 L 84.984375 41.777344 L 79.609375 27.773438 \"/>\n<path fill=\"none\" stroke-width=\"1\" stroke-linecap=\"butt\" stroke-linejoin=\"miter\" stroke=\"rgb(26.666667%, 26.666667%, 26.666667%)\" stroke-opacity=\"1\" stroke-miterlimit=\"10\" d=\"M 300.011719 300.023438 L 38.863281 511.320312 \"/>\n<path fill-rule=\"nonzero\" fill=\"rgb(26.666667%, 26.666667%, 26.666667%)\" fill-opacity=\"1\" d=\"M 27.773438 520.296875 L 35.949219 507.71875 L 41.78125 514.925781 L 27.773438 520.296875 \"/>\n<path fill-rule=\"nonzero\" fill=\"rgb(100%, 0%, 0%)\" fill-opacity=\"1\" stroke-width=\"1\" stroke-linecap=\"butt\" stroke-linejoin=\"miter\" stroke=\"rgb(0%, 0%, 0%)\" stroke-opacity=\"1\" stroke-miterlimit=\"10\" d=\"M 310.011719 300.023438 C 310.011719 305.546875 305.535156 310.023438 300.011719 310.023438 C 294.492188 310.023438 290.011719 305.546875 290.011719 300.023438 C 290.011719 294.5 294.492188 290.023438 300.011719 290.023438 C 305.535156 290.023438 310.011719 294.5 310.011719 300.023438 \"/>\n<path fill-rule=\"nonzero\" fill=\"rgb(100%, 0%, 0%)\" fill-opacity=\"1\" stroke-width=\"1\" stroke-linecap=\"butt\" stroke-linejoin=\"miter\" stroke=\"rgb(0%, 0%, 0%)\" stroke-opacity=\"1\" stroke-miterlimit=\"10\" d=\"M 590 73.363281 C 590 78.886719 585.523438 83.363281 580 83.363281 C 574.476562 83.363281 570 78.886719 570 73.363281 C 570 67.839844 574.476562 63.363281 580 63.363281 C 585.523438 63.363281 590 67.839844 590 73.363281 \"/>\n<path fill-rule=\"nonzero\" fill=\"rgb(100%, 0%, 0%)\" fill-opacity=\"1\" stroke-width=\"1\" stroke-linecap=\"butt\" stroke-linejoin=\"miter\" stroke=\"rgb(0%, 0%, 0%)\" stroke-opacity=\"1\" stroke-miterlimit=\"10\" d=\"M 536.808594 580 C 536.808594 585.523438 532.332031 590 526.808594 590 C 521.289062 590 516.808594 585.523438 516.808594 580 C 516.808594 574.476562 521.289062 570 526.808594 570 C 532.332031 570 536.808594 574.476562 536.808594 580 \"/>\n<path fill-rule=\"nonzero\" fill=\"rgb(100%, 0%, 0%)\" fill-opacity=\"1\" stroke-width=\"1\" stroke-linecap=\"butt\" stroke-linejoin=\"miter\" stroke=\"rgb(0%, 0%, 0%)\" stroke-opacity=\"1\" stroke-miterlimit=\"10\" d=\"M 83.320312 20 C 83.320312 25.523438 78.839844 30 73.320312 30 C 67.796875 30 63.320312 25.523438 63.320312 20 C 63.320312 14.476562 67.796875 10 73.320312 10 C 78.839844 10 83.320312 14.476562 83.320312 20 \"/>\n<path fill-rule=\"nonzero\" fill=\"rgb(100%, 0%, 0%)\" fill-opacity=\"1\" stroke-width=\"1\" stroke-linecap=\"butt\" stroke-linejoin=\"miter\" stroke=\"rgb(0%, 0%, 0%)\" stroke-opacity=\"1\" stroke-miterlimit=\"10\" d=\"M 30 526.585938 C 30 532.109375 25.523438 536.585938 20 536.585938 C 14.476562 536.585938 10 532.109375 10 526.585938 C 10 521.0625 14.476562 516.585938 20 516.585938 C 25.523438 516.585938 30 521.0625 30 526.585938 \"/>\n</svg>\n"
     },
     "execution_count": 2,
     "metadata": {
      "image/svg+xml": {
       "isolated": true
      }
     },
     "output_type": "execute_result"
    }
   ],
   "execution_count": 2
  },
  {
   "metadata": {},
   "cell_type": "markdown",
   "source": [
    "Note that in this example we passed the list of edges to the constructor. The number of nodes is inferred.\n",
    "\n",
    "We will see other parameters later on."
   ],
   "id": "6fcc2714c7ed65a2"
  },
  {
   "metadata": {
    "ExecuteTime": {
     "end_time": "2024-04-11T09:19:27.125476Z",
     "start_time": "2024-04-11T09:19:27.116430Z"
    }
   },
   "cell_type": "code",
   "source": [
    "# Creating a triangular graph with string nodes.\n",
    "str_graph = ig.Graph()\n",
    "str_graph.add_vertices([\"node1\", \"node2\", \"node3\"])\n",
    "str_graph.add_edges([(\"node1\", \"node2\"), (\"node2\", \"node3\"), (\"node3\", \"node1\")])\n",
    "ig.plot(str_graph)"
   ],
   "id": "6cb10edc01a91d7b",
   "outputs": [
    {
     "data": {
      "text/plain": [
       "<igraph.drawing.cairo.plot.CairoPlot at 0x709f91383390>"
      ],
      "image/svg+xml": "<?xml version=\"1.0\" encoding=\"UTF-8\"?>\n<svg xmlns=\"http://www.w3.org/2000/svg\" xmlns:xlink=\"http://www.w3.org/1999/xlink\" width=\"600\" height=\"600\" viewBox=\"0 0 600 600\">\n<rect x=\"-60\" y=\"-60\" width=\"720\" height=\"720\" fill=\"rgb(100%, 100%, 100%)\" fill-opacity=\"1\"/>\n<path fill=\"none\" stroke-width=\"1\" stroke-linecap=\"butt\" stroke-linejoin=\"miter\" stroke=\"rgb(26.666667%, 26.666667%, 26.666667%)\" stroke-opacity=\"1\" stroke-miterlimit=\"10\" d=\"M 580 20 L 329.15625 580 \"/>\n<path fill=\"none\" stroke-width=\"1\" stroke-linecap=\"butt\" stroke-linejoin=\"miter\" stroke=\"rgb(26.666667%, 26.666667%, 26.666667%)\" stroke-opacity=\"1\" stroke-miterlimit=\"10\" d=\"M 329.15625 580 L 20 57.570312 \"/>\n<path fill=\"none\" stroke-width=\"1\" stroke-linecap=\"butt\" stroke-linejoin=\"miter\" stroke=\"rgb(26.666667%, 26.666667%, 26.666667%)\" stroke-opacity=\"1\" stroke-miterlimit=\"10\" d=\"M 580 20 L 20 57.570312 \"/>\n<path fill-rule=\"nonzero\" fill=\"rgb(100%, 0%, 0%)\" fill-opacity=\"1\" stroke-width=\"1\" stroke-linecap=\"butt\" stroke-linejoin=\"miter\" stroke=\"rgb(0%, 0%, 0%)\" stroke-opacity=\"1\" stroke-miterlimit=\"10\" d=\"M 590 20 C 590 25.523438 585.523438 30 580 30 C 574.476562 30 570 25.523438 570 20 C 570 14.476562 574.476562 10 580 10 C 585.523438 10 590 14.476562 590 20 \"/>\n<path fill-rule=\"nonzero\" fill=\"rgb(100%, 0%, 0%)\" fill-opacity=\"1\" stroke-width=\"1\" stroke-linecap=\"butt\" stroke-linejoin=\"miter\" stroke=\"rgb(0%, 0%, 0%)\" stroke-opacity=\"1\" stroke-miterlimit=\"10\" d=\"M 339.15625 580 C 339.15625 585.523438 334.679688 590 329.15625 590 C 323.632812 590 319.15625 585.523438 319.15625 580 C 319.15625 574.476562 323.632812 570 329.15625 570 C 334.679688 570 339.15625 574.476562 339.15625 580 \"/>\n<path fill-rule=\"nonzero\" fill=\"rgb(100%, 0%, 0%)\" fill-opacity=\"1\" stroke-width=\"1\" stroke-linecap=\"butt\" stroke-linejoin=\"miter\" stroke=\"rgb(0%, 0%, 0%)\" stroke-opacity=\"1\" stroke-miterlimit=\"10\" d=\"M 30 57.570312 C 30 63.09375 25.523438 67.570312 20 67.570312 C 14.476562 67.570312 10 63.09375 10 57.570312 C 10 52.046875 14.476562 47.570312 20 47.570312 C 25.523438 47.570312 30 52.046875 30 57.570312 \"/>\n</svg>\n"
     },
     "execution_count": 3,
     "metadata": {
      "image/svg+xml": {
       "isolated": true
      }
     },
     "output_type": "execute_result"
    }
   ],
   "execution_count": 3
  },
  {
   "metadata": {},
   "cell_type": "markdown",
   "source": [
    "Note that in this example we first create a `Graph` object and the we pass add nodes and edges.\n",
    "> Avoid `for` cycles to add nodes/vertexes and pass a list of values, since it is faster.\n",
    "\n",
    "Keep in mind that if you try to pass a list of edges of type `tuple(str,str)` you will get a TypeError.\n",
    "> Use the second method that we saw if you need Strings.\n",
    "\n",
    "> **Nodes are still converted to `int`!**"
   ],
   "id": "77a19ef0bfd27888"
  },
  {
   "metadata": {},
   "cell_type": "markdown",
   "source": [
    "\n",
    "```Python\n",
    "edges = [(\"node1\", \"node2\"), (\"node2\", \"node3\"), (\"node3\", \"node1\")]\n",
    "print(type(edges))\n",
    "wrong_graph = ig.Graph(edges)\n",
    "```\n",
    "```DocTest\n",
    "<class 'list'>\n",
    "TypeError: only non-negative integers, strings or igraph.Vertex objects can be converted to vertex IDs\n",
    "```"
   ],
   "id": "b2daa08dd7ecf9f8"
  },
  {
   "metadata": {},
   "cell_type": "markdown",
   "source": [
    "## Adding attributes to graph, edges and nodes\n",
    "\n",
    "We can set attributes to the graph with `graph_name[\"an_attribute\"] = \"an_attribute_value\" `.\n",
    "\n",
    "We can also add attributes to all the nodes/edges or to a single node/edge:\n",
    "\n",
    "- `graph_name.vs[\"nodes_attribute_name\"] = \"List of values\"`\n",
    "- `graph_name.es[\"edges_attribute_name\"] = \"List of values\"`\n",
    "- `graph_name.vs[node_id][\"node_attribute_name\"] = \"a_value\"`\n",
    "- `graph_name.es[edge_id][\"edge_attribute_name\"] = \"a_values\"`\n",
    "\n",
    "> The id depends on the order of declaration in you used `str` nodes."
   ],
   "id": "626683607c20464d"
  },
  {
   "metadata": {
    "ExecuteTime": {
     "end_time": "2024-04-11T09:19:27.147705Z",
     "start_time": "2024-04-11T09:19:27.127098Z"
    }
   },
   "cell_type": "code",
   "source": [
    "print(\"=====OLD Attributes======\\n\")\n",
    "print(f\"Vertex Iterator: {list(str_graph.vs)}\\n\")\n",
    "print(f\"Edges Iterator:{list(str_graph.es)}\\n\")\n",
    "\n",
    "str_graph.vs[0][\"name\"] = \"Bob\"\n",
    "str_graph.es[\"A_cool_attribute\"] = [True,True,False]\n",
    "ig.plot(\n",
    "    str_graph,\n",
    "    vertex_size=50,\n",
    "    vertex_label=str_graph.vs[\"name\"],\n",
    "    vertex_color=[\"steelblue\" if name == \"Bob\" else \"salmon\" for name in str_graph.vs[\"name\"]],\n",
    "    edge_width=[4 if A_cool_attribute else 1 for A_cool_attribute in str_graph.es[\"A_cool_attribute\"]],\n",
    "    edge_color=[\"#7142cf\" if A_cool_attribute else \"#AAA\" for A_cool_attribute in str_graph.es[\"A_cool_attribute\"]]\n",
    ")\n"
   ],
   "id": "ff97e16f871bcd5f",
   "outputs": [
    {
     "name": "stdout",
     "output_type": "stream",
     "text": [
      "=====OLD Attributes======\n",
      "\n",
      "Vertex Iterator: [igraph.Vertex(<igraph.Graph object at 0x709f90922150>, 0, {'name': 'node1'}), igraph.Vertex(<igraph.Graph object at 0x709f90922150>, 1, {'name': 'node2'}), igraph.Vertex(<igraph.Graph object at 0x709f90922150>, 2, {'name': 'node3'})]\n",
      "\n",
      "Edges Iterator:[igraph.Edge(<igraph.Graph object at 0x709f90922150>, 0, {}), igraph.Edge(<igraph.Graph object at 0x709f90922150>, 1, {}), igraph.Edge(<igraph.Graph object at 0x709f90922150>, 2, {})]\n",
      "\n"
     ]
    },
    {
     "data": {
      "text/plain": [
       "<igraph.drawing.cairo.plot.CairoPlot at 0x709f9096c510>"
      ],
      "image/svg+xml": "<?xml version=\"1.0\" encoding=\"UTF-8\"?>\n<svg xmlns=\"http://www.w3.org/2000/svg\" xmlns:xlink=\"http://www.w3.org/1999/xlink\" width=\"600\" height=\"600\" viewBox=\"0 0 600 600\">\n<defs>\n<g>\n<g id=\"glyph-0-0\">\n<path d=\"M 1.109375 0 L 5.71875 0 C 6.671875 0 7.390625 -0.265625 7.9375 -0.859375 C 8.4375 -1.390625 8.71875 -2.109375 8.71875 -2.90625 C 8.71875 -4.140625 8.15625 -4.890625 6.859375 -5.390625 C 7.796875 -5.828125 8.28125 -6.5625 8.28125 -7.609375 C 8.28125 -8.375 8 -9.015625 7.46875 -9.484375 C 6.921875 -9.984375 6.234375 -10.203125 5.25 -10.203125 L 1.109375 -10.203125 Z M 2.40625 -5.8125 L 2.40625 -9.0625 L 4.921875 -9.0625 C 5.65625 -9.0625 6.0625 -8.953125 6.40625 -8.6875 C 6.78125 -8.40625 6.96875 -8 6.96875 -7.4375 C 6.96875 -6.875 6.78125 -6.453125 6.40625 -6.171875 C 6.0625 -5.90625 5.65625 -5.8125 4.921875 -5.8125 Z M 2.40625 -1.140625 L 2.40625 -4.65625 L 5.59375 -4.65625 C 6.734375 -4.65625 7.421875 -4 7.421875 -2.890625 C 7.421875 -1.8125 6.734375 -1.140625 5.59375 -1.140625 Z M 2.40625 -1.140625 \"/>\n</g>\n<g id=\"glyph-0-1\">\n<path d=\"M 3.8125 -7.546875 C 1.734375 -7.546875 0.5 -6.078125 0.5 -3.609375 C 0.5 -1.140625 1.734375 0.328125 3.828125 0.328125 C 5.890625 0.328125 7.140625 -1.140625 7.140625 -3.5625 C 7.140625 -6.109375 5.9375 -7.546875 3.8125 -7.546875 Z M 3.828125 -6.46875 C 5.140625 -6.46875 5.921875 -5.390625 5.921875 -3.5625 C 5.921875 -1.828125 5.109375 -0.75 3.828125 -0.75 C 2.515625 -0.75 1.71875 -1.828125 1.71875 -3.609375 C 1.71875 -5.390625 2.515625 -6.46875 3.828125 -6.46875 Z M 3.828125 -6.46875 \"/>\n</g>\n<g id=\"glyph-0-2\">\n<path d=\"M 0.75 -10.203125 L 0.75 0 L 1.8125 0 L 1.8125 -0.9375 C 2.359375 -0.078125 3.109375 0.328125 4.125 0.328125 C 6.0625 0.328125 7.328125 -1.265625 7.328125 -3.703125 C 7.328125 -6.078125 6.125 -7.546875 4.1875 -7.546875 C 3.171875 -7.546875 2.46875 -7.171875 1.921875 -6.34375 L 1.921875 -10.203125 Z M 3.96875 -6.453125 C 5.265625 -6.453125 6.109375 -5.3125 6.109375 -3.5625 C 6.109375 -1.90625 5.234375 -0.765625 3.96875 -0.765625 C 2.71875 -0.765625 1.921875 -1.890625 1.921875 -3.609375 C 1.921875 -5.328125 2.71875 -6.453125 3.96875 -6.453125 Z M 3.96875 -6.453125 \"/>\n</g>\n<g id=\"glyph-0-3\">\n<path d=\"M 0.984375 -7.34375 L 0.984375 0 L 2.15625 0 L 2.15625 -4.046875 C 2.15625 -5.546875 2.9375 -6.53125 4.140625 -6.53125 C 5.0625 -6.53125 5.65625 -5.96875 5.65625 -5.078125 L 5.65625 0 L 6.8125 0 L 6.8125 -5.546875 C 6.8125 -6.765625 5.90625 -7.546875 4.5 -7.546875 C 3.40625 -7.546875 2.703125 -7.125 2.0625 -6.109375 L 2.0625 -7.34375 Z M 0.984375 -7.34375 \"/>\n</g>\n<g id=\"glyph-0-4\">\n<path d=\"M 6.9375 -10.203125 L 5.765625 -10.203125 L 5.765625 -6.40625 C 5.28125 -7.15625 4.5 -7.546875 3.515625 -7.546875 C 1.609375 -7.546875 0.359375 -6.015625 0.359375 -3.6875 C 0.359375 -1.203125 1.5625 0.328125 3.5625 0.328125 C 4.5625 0.328125 5.265625 -0.0625 5.890625 -0.96875 L 5.890625 0 L 6.9375 0 Z M 3.703125 -6.453125 C 4.96875 -6.453125 5.765625 -5.34375 5.765625 -3.578125 C 5.765625 -1.890625 4.953125 -0.765625 3.71875 -0.765625 C 2.4375 -0.765625 1.578125 -1.90625 1.578125 -3.609375 C 1.578125 -5.3125 2.4375 -6.453125 3.703125 -6.453125 Z M 3.703125 -6.453125 \"/>\n</g>\n<g id=\"glyph-0-5\">\n<path d=\"M 7.1875 -3.28125 C 7.1875 -4.390625 7.09375 -5.0625 6.890625 -5.609375 C 6.40625 -6.8125 5.296875 -7.546875 3.921875 -7.546875 C 1.875 -7.546875 0.5625 -5.984375 0.5625 -3.5625 C 0.5625 -1.140625 1.8125 0.328125 3.890625 0.328125 C 5.578125 0.328125 6.734375 -0.625 7.03125 -2.21875 L 5.859375 -2.21875 C 5.53125 -1.265625 4.875 -0.75 3.9375 -0.75 C 3.1875 -0.75 2.5625 -1.09375 2.171875 -1.703125 C 1.890625 -2.125 1.796875 -2.546875 1.78125 -3.28125 Z M 1.8125 -4.234375 C 1.90625 -5.59375 2.734375 -6.46875 3.90625 -6.46875 C 5.09375 -6.46875 5.921875 -5.546875 5.921875 -4.234375 Z M 1.8125 -4.234375 \"/>\n</g>\n<g id=\"glyph-0-6\">\n<path d=\"M 7.078125 -1.21875 L 1.859375 -1.21875 C 1.984375 -2.0625 2.4375 -2.59375 3.65625 -3.328125 L 5.046875 -4.109375 C 6.4375 -4.890625 7.15625 -5.921875 7.15625 -7.171875 C 7.15625 -8.015625 6.8125 -8.796875 6.234375 -9.34375 C 5.640625 -9.875 4.90625 -10.125 3.96875 -10.125 C 2.71875 -10.125 1.78125 -9.671875 1.234375 -8.8125 C 0.875 -8.28125 0.734375 -7.640625 0.703125 -6.625 L 1.9375 -6.625 C 1.96875 -7.3125 2.0625 -7.71875 2.21875 -8.046875 C 2.546875 -8.671875 3.1875 -9.046875 3.9375 -9.046875 C 5.046875 -9.046875 5.890625 -8.234375 5.890625 -7.140625 C 5.890625 -6.328125 5.4375 -5.625 4.546875 -5.125 L 3.265625 -4.375 C 1.1875 -3.171875 0.59375 -2.21875 0.46875 -0.015625 L 7.078125 -0.015625 Z M 7.078125 -1.21875 \"/>\n</g>\n<g id=\"glyph-0-7\">\n<path d=\"M 3.09375 -4.65625 L 3.765625 -4.65625 C 5.109375 -4.65625 5.828125 -4.03125 5.828125 -2.8125 C 5.828125 -1.546875 5.046875 -0.765625 3.78125 -0.765625 C 2.421875 -0.765625 1.765625 -1.453125 1.6875 -2.9375 L 0.453125 -2.9375 C 0.5 -2.125 0.640625 -1.59375 0.875 -1.140625 C 1.40625 -0.171875 2.359375 0.328125 3.71875 0.328125 C 5.765625 0.328125 7.078125 -0.90625 7.078125 -2.828125 C 7.078125 -4.109375 6.59375 -4.8125 5.40625 -5.234375 C 6.328125 -5.609375 6.796875 -6.3125 6.796875 -7.34375 C 6.796875 -9.078125 5.65625 -10.125 3.765625 -10.125 C 1.765625 -10.125 0.703125 -9 0.65625 -6.859375 L 1.890625 -6.859375 C 1.90625 -7.46875 1.953125 -7.828125 2.109375 -8.140625 C 2.390625 -8.703125 3.015625 -9.046875 3.78125 -9.046875 C 4.875 -9.046875 5.53125 -8.390625 5.53125 -7.296875 C 5.53125 -6.578125 5.28125 -6.140625 4.734375 -5.90625 C 4.390625 -5.765625 3.953125 -5.71875 3.09375 -5.703125 Z M 3.09375 -4.65625 \"/>\n</g>\n</g>\n</defs>\n<rect x=\"-60\" y=\"-60\" width=\"720\" height=\"720\" fill=\"rgb(100%, 100%, 100%)\" fill-opacity=\"1\"/>\n<path fill=\"none\" stroke-width=\"4\" stroke-linecap=\"butt\" stroke-linejoin=\"miter\" stroke=\"rgb(44.313725%, 25.882353%, 81.176471%)\" stroke-opacity=\"1\" stroke-miterlimit=\"10\" d=\"M 580 20 L 329.15625 580 \"/>\n<path fill=\"none\" stroke-width=\"4\" stroke-linecap=\"butt\" stroke-linejoin=\"miter\" stroke=\"rgb(44.313725%, 25.882353%, 81.176471%)\" stroke-opacity=\"1\" stroke-miterlimit=\"10\" d=\"M 329.15625 580 L 20 57.570312 \"/>\n<path fill=\"none\" stroke-width=\"1\" stroke-linecap=\"butt\" stroke-linejoin=\"miter\" stroke=\"rgb(66.666667%, 66.666667%, 66.666667%)\" stroke-opacity=\"1\" stroke-miterlimit=\"10\" d=\"M 580 20 L 20 57.570312 \"/>\n<path fill-rule=\"nonzero\" fill=\"rgb(27.45098%, 50.980392%, 70.588235%)\" fill-opacity=\"1\" stroke-width=\"1\" stroke-linecap=\"butt\" stroke-linejoin=\"miter\" stroke=\"rgb(0%, 0%, 0%)\" stroke-opacity=\"1\" stroke-miterlimit=\"10\" d=\"M 605 20 C 605 33.808594 593.808594 45 580 45 C 566.191406 45 555 33.808594 555 20 C 555 6.191406 566.191406 -5 580 -5 C 593.808594 -5 605 6.191406 605 20 \"/>\n<path fill-rule=\"nonzero\" fill=\"rgb(98.039216%, 50.196078%, 44.705882%)\" fill-opacity=\"1\" stroke-width=\"1\" stroke-linecap=\"butt\" stroke-linejoin=\"miter\" stroke=\"rgb(0%, 0%, 0%)\" stroke-opacity=\"1\" stroke-miterlimit=\"10\" d=\"M 354.15625 580 C 354.15625 593.808594 342.964844 605 329.15625 605 C 315.347656 605 304.15625 593.808594 304.15625 580 C 304.15625 566.191406 315.347656 555 329.15625 555 C 342.964844 555 354.15625 566.191406 354.15625 580 \"/>\n<path fill-rule=\"nonzero\" fill=\"rgb(98.039216%, 50.196078%, 44.705882%)\" fill-opacity=\"1\" stroke-width=\"1\" stroke-linecap=\"butt\" stroke-linejoin=\"miter\" stroke=\"rgb(0%, 0%, 0%)\" stroke-opacity=\"1\" stroke-miterlimit=\"10\" d=\"M 45 57.570312 C 45 71.378906 33.808594 82.570312 20 82.570312 C 6.191406 82.570312 -5 71.378906 -5 57.570312 C -5 43.761719 6.191406 32.570312 20 32.570312 C 33.808594 32.570312 45 43.761719 45 57.570312 \"/>\n<g fill=\"rgb(0%, 0%, 0%)\" fill-opacity=\"1\">\n<use xlink:href=\"#glyph-0-0\" x=\"567.226562\" y=\"27\"/>\n<use xlink:href=\"#glyph-0-1\" x=\"576.564562\" y=\"27\"/>\n<use xlink:href=\"#glyph-0-2\" x=\"584.348562\" y=\"27\"/>\n</g>\n<g fill=\"rgb(0%, 0%, 0%)\" fill-opacity=\"1\">\n<use xlink:href=\"#glyph-0-3\" x=\"309.519531\" y=\"587\"/>\n<use xlink:href=\"#glyph-0-1\" x=\"317.303531\" y=\"587\"/>\n<use xlink:href=\"#glyph-0-4\" x=\"325.087531\" y=\"587\"/>\n<use xlink:href=\"#glyph-0-5\" x=\"332.871531\" y=\"587\"/>\n<use xlink:href=\"#glyph-0-6\" x=\"340.655531\" y=\"587\"/>\n</g>\n<g fill=\"rgb(0%, 0%, 0%)\" fill-opacity=\"1\">\n<use xlink:href=\"#glyph-0-3\" x=\"0.398438\" y=\"64.570312\"/>\n<use xlink:href=\"#glyph-0-1\" x=\"8.182438\" y=\"64.570312\"/>\n<use xlink:href=\"#glyph-0-4\" x=\"15.966438\" y=\"64.570312\"/>\n<use xlink:href=\"#glyph-0-5\" x=\"23.750438\" y=\"64.570312\"/>\n<use xlink:href=\"#glyph-0-7\" x=\"31.534438\" y=\"64.570312\"/>\n</g>\n</svg>\n"
     },
     "execution_count": 4,
     "metadata": {
      "image/svg+xml": {
       "isolated": true
      }
     },
     "output_type": "execute_result"
    }
   ],
   "execution_count": 4
  },
  {
   "metadata": {
    "ExecuteTime": {
     "end_time": "2024-04-11T09:19:27.152864Z",
     "start_time": "2024-04-11T09:19:27.149005Z"
    }
   },
   "cell_type": "code",
   "source": [
    "print(\"=====NEW Attributes======\\n\")\n",
    "print(f\"Vertex Iterator: {list(str_graph.vs)}\\n\")\n",
    "print(f\"Edges Iterator:{list(str_graph.es)}\\n\")"
   ],
   "id": "c8ae5c04e27ae01e",
   "outputs": [
    {
     "name": "stdout",
     "output_type": "stream",
     "text": [
      "=====NEW Attributes======\n",
      "\n",
      "Vertex Iterator: [igraph.Vertex(<igraph.Graph object at 0x709f90922150>, 0, {'name': 'Bob'}), igraph.Vertex(<igraph.Graph object at 0x709f90922150>, 1, {'name': 'node2'}), igraph.Vertex(<igraph.Graph object at 0x709f90922150>, 2, {'name': 'node3'})]\n",
      "\n",
      "Edges Iterator:[igraph.Edge(<igraph.Graph object at 0x709f90922150>, 0, {'A_cool_attribute': True}), igraph.Edge(<igraph.Graph object at 0x709f90922150>, 1, {'A_cool_attribute': True}), igraph.Edge(<igraph.Graph object at 0x709f90922150>, 2, {'A_cool_attribute': False})]\n",
      "\n"
     ]
    }
   ],
   "execution_count": 5
  },
  {
   "metadata": {},
   "cell_type": "markdown",
   "source": [
    "Note that the nodes and edges are converted to `int`.\n",
    "\n",
    "More plotting attributes examples in the [quickstart documentation](https://python.igraph.org/en/latest/tutorials/quickstart.html#sphx-glr-tutorials-quickstart-py).\n",
    "\n",
    "Given a node or edge, attributes are accessible with `[]` operator."
   ],
   "id": "a2270b145992b165"
  },
  {
   "metadata": {
    "ExecuteTime": {
     "end_time": "2024-04-11T09:19:27.161187Z",
     "start_time": "2024-04-11T09:19:27.154341Z"
    }
   },
   "cell_type": "code",
   "source": [
    "interesting_node = str_graph.vs[0]\n",
    "print(\"The name of the node is: \" +  interesting_node[\"name\"])"
   ],
   "id": "9f06249dbb5d1475",
   "outputs": [
    {
     "name": "stdout",
     "output_type": "stream",
     "text": [
      "The name of the node is: Bob\n"
     ]
    }
   ],
   "execution_count": 6
  },
  {
   "metadata": {},
   "cell_type": "markdown",
   "source": [
    "## Adding Weights\n",
    "\n",
    "Weight is a particular attribute of `edge`.\n",
    "\n",
    "We can specify it one by one, or passing a weighted edge list to a specific method of `Graph`, (i.e. `Graph.TupleList`)."
   ],
   "id": "f8e86689bbaa4286"
  },
  {
   "metadata": {
    "ExecuteTime": {
     "end_time": "2024-04-11T09:19:27.174733Z",
     "start_time": "2024-04-11T09:19:27.162464Z"
    }
   },
   "cell_type": "code",
   "source": [
    "#Creating a graph with a TupleList\n",
    "\n",
    "weighted_edges = [(0, 1, 5), (1, 2, 10)] \n",
    "weighted_graph = ig.Graph.TupleList(weighted_edges, directed=True, edge_attrs=[\"weight\"])\n",
    "\n",
    "weighted_graph.add_vertices([3])\n",
    "weighted_graph.add_edge(2, 3, weight=15)\n",
    "\n",
    "print(f\"Edges Iterator:{list(weighted_graph.es)}\\n\")\n",
    "print(f\"Vertex Iterator:{list(weighted_graph.vs)}\\n\")\n",
    "ig.plot(\n",
    "    weighted_graph,\n",
    "    vertex_size=50,\n",
    "    vertex_label=weighted_graph.vs[\"name\"],\n",
    "    edge_label=weighted_graph.es[\"weight\"]\n",
    ")"
   ],
   "id": "ea6c113cc07df830",
   "outputs": [
    {
     "name": "stdout",
     "output_type": "stream",
     "text": [
      "Edges Iterator:[igraph.Edge(<igraph.Graph object at 0x709f90922b50>, 0, {'weight': 5}), igraph.Edge(<igraph.Graph object at 0x709f90922b50>, 1, {'weight': 10}), igraph.Edge(<igraph.Graph object at 0x709f90922b50>, 2, {'weight': 15})]\n",
      "\n",
      "Vertex Iterator:[igraph.Vertex(<igraph.Graph object at 0x709f90922b50>, 0, {'name': 0}), igraph.Vertex(<igraph.Graph object at 0x709f90922b50>, 1, {'name': 1}), igraph.Vertex(<igraph.Graph object at 0x709f90922b50>, 2, {'name': 2}), igraph.Vertex(<igraph.Graph object at 0x709f90922b50>, 3, {'name': 3})]\n",
      "\n"
     ]
    },
    {
     "data": {
      "text/plain": [
       "<igraph.drawing.cairo.plot.CairoPlot at 0x709f9097da50>"
      ],
      "image/svg+xml": "<?xml version=\"1.0\" encoding=\"UTF-8\"?>\n<svg xmlns=\"http://www.w3.org/2000/svg\" xmlns:xlink=\"http://www.w3.org/1999/xlink\" width=\"600\" height=\"600\" viewBox=\"0 0 600 600\">\n<defs>\n<g>\n<g id=\"glyph-0-0\">\n<path d=\"M 3.84375 -10.125 C 2.921875 -10.125 2.09375 -9.703125 1.5625 -9.015625 C 0.921875 -8.125 0.609375 -6.78125 0.609375 -4.90625 C 0.609375 -1.484375 1.71875 0.328125 3.84375 0.328125 C 5.953125 0.328125 7.09375 -1.484375 7.09375 -4.8125 C 7.09375 -6.78125 6.796875 -8.09375 6.125 -9.015625 C 5.609375 -9.71875 4.78125 -10.125 3.84375 -10.125 Z M 3.84375 -9.03125 C 5.1875 -9.03125 5.84375 -7.671875 5.84375 -4.921875 C 5.84375 -2.046875 5.1875 -0.703125 3.828125 -0.703125 C 2.515625 -0.703125 1.859375 -2.09375 1.859375 -4.890625 C 1.859375 -7.671875 2.515625 -9.03125 3.84375 -9.03125 Z M 3.84375 -9.03125 \"/>\n</g>\n<g id=\"glyph-0-1\">\n<path d=\"M 3.625 -7.203125 L 3.625 0 L 4.859375 0 L 4.859375 -10.125 L 4.046875 -10.125 C 3.609375 -8.5625 3.328125 -8.359375 1.421875 -8.109375 L 1.421875 -7.203125 Z M 3.625 -7.203125 \"/>\n</g>\n<g id=\"glyph-0-2\">\n<path d=\"M 7.078125 -1.21875 L 1.859375 -1.21875 C 1.984375 -2.0625 2.4375 -2.59375 3.65625 -3.328125 L 5.046875 -4.109375 C 6.4375 -4.890625 7.15625 -5.921875 7.15625 -7.171875 C 7.15625 -8.015625 6.8125 -8.796875 6.234375 -9.34375 C 5.640625 -9.875 4.90625 -10.125 3.96875 -10.125 C 2.71875 -10.125 1.78125 -9.671875 1.234375 -8.8125 C 0.875 -8.28125 0.734375 -7.640625 0.703125 -6.625 L 1.9375 -6.625 C 1.96875 -7.3125 2.0625 -7.71875 2.21875 -8.046875 C 2.546875 -8.671875 3.1875 -9.046875 3.9375 -9.046875 C 5.046875 -9.046875 5.890625 -8.234375 5.890625 -7.140625 C 5.890625 -6.328125 5.4375 -5.625 4.546875 -5.125 L 3.265625 -4.375 C 1.1875 -3.171875 0.59375 -2.21875 0.46875 -0.015625 L 7.078125 -0.015625 Z M 7.078125 -1.21875 \"/>\n</g>\n<g id=\"glyph-0-3\">\n<path d=\"M 3.09375 -4.65625 L 3.765625 -4.65625 C 5.109375 -4.65625 5.828125 -4.03125 5.828125 -2.8125 C 5.828125 -1.546875 5.046875 -0.765625 3.78125 -0.765625 C 2.421875 -0.765625 1.765625 -1.453125 1.6875 -2.9375 L 0.453125 -2.9375 C 0.5 -2.125 0.640625 -1.59375 0.875 -1.140625 C 1.40625 -0.171875 2.359375 0.328125 3.71875 0.328125 C 5.765625 0.328125 7.078125 -0.90625 7.078125 -2.828125 C 7.078125 -4.109375 6.59375 -4.8125 5.40625 -5.234375 C 6.328125 -5.609375 6.796875 -6.3125 6.796875 -7.34375 C 6.796875 -9.078125 5.65625 -10.125 3.765625 -10.125 C 1.765625 -10.125 0.703125 -9 0.65625 -6.859375 L 1.890625 -6.859375 C 1.90625 -7.46875 1.953125 -7.828125 2.109375 -8.140625 C 2.390625 -8.703125 3.015625 -9.046875 3.78125 -9.046875 C 4.875 -9.046875 5.53125 -8.390625 5.53125 -7.296875 C 5.53125 -6.578125 5.28125 -6.140625 4.734375 -5.90625 C 4.390625 -5.765625 3.953125 -5.71875 3.09375 -5.703125 Z M 3.09375 -4.65625 \"/>\n</g>\n<g id=\"glyph-1-0\">\n<path d=\"M 5.71875 -8.515625 L 1.3125 -8.515625 L 0.6875 -3.875 L 1.65625 -3.875 C 2.140625 -4.46875 2.5625 -4.671875 3.234375 -4.671875 C 4.375 -4.671875 5.078125 -3.890625 5.078125 -2.625 C 5.078125 -1.40625 4.375 -0.65625 3.21875 -0.65625 C 2.296875 -0.65625 1.734375 -1.125 1.46875 -2.09375 L 0.421875 -2.09375 C 0.5625 -1.390625 0.6875 -1.0625 0.9375 -0.75 C 1.421875 -0.09375 2.28125 0.28125 3.234375 0.28125 C 4.953125 0.28125 6.15625 -0.96875 6.15625 -2.765625 C 6.15625 -4.453125 5.046875 -5.609375 3.40625 -5.609375 C 2.8125 -5.609375 2.328125 -5.453125 1.84375 -5.09375 L 2.171875 -7.46875 L 5.71875 -7.46875 Z M 5.71875 -8.515625 \"/>\n</g>\n<g id=\"glyph-1-1\">\n<path d=\"M 3.109375 -6.1875 L 3.109375 0 L 4.15625 0 L 4.15625 -8.671875 L 3.46875 -8.671875 C 3.09375 -7.34375 2.859375 -7.15625 1.21875 -6.953125 L 1.21875 -6.1875 Z M 3.109375 -6.1875 \"/>\n</g>\n<g id=\"glyph-1-2\">\n<path d=\"M 3.296875 -8.671875 C 2.515625 -8.671875 1.78125 -8.3125 1.34375 -7.734375 C 0.796875 -6.953125 0.515625 -5.8125 0.515625 -4.203125 C 0.515625 -1.265625 1.46875 0.28125 3.296875 0.28125 C 5.09375 0.28125 6.078125 -1.265625 6.078125 -4.125 C 6.078125 -5.8125 5.8125 -6.9375 5.25 -7.734375 C 4.8125 -8.328125 4.109375 -8.671875 3.296875 -8.671875 Z M 3.296875 -7.734375 C 4.4375 -7.734375 5 -6.578125 5 -4.21875 C 5 -1.75 4.453125 -0.59375 3.28125 -0.59375 C 2.15625 -0.59375 1.59375 -1.796875 1.59375 -4.1875 C 1.59375 -6.578125 2.15625 -7.734375 3.296875 -7.734375 Z M 3.296875 -7.734375 \"/>\n</g>\n</g>\n</defs>\n<rect x=\"-60\" y=\"-60\" width=\"720\" height=\"720\" fill=\"rgb(100%, 100%, 100%)\" fill-opacity=\"1\"/>\n<path fill=\"none\" stroke-width=\"1\" stroke-linecap=\"butt\" stroke-linejoin=\"miter\" stroke=\"rgb(26.666667%, 26.666667%, 26.666667%)\" stroke-opacity=\"1\" stroke-miterlimit=\"10\" d=\"M 20 20 L 172.773438 172.773438 \"/>\n<path fill-rule=\"nonzero\" fill=\"rgb(26.666667%, 26.666667%, 26.666667%)\" fill-opacity=\"1\" d=\"M 182.859375 182.859375 L 169.496094 176.050781 L 176.050781 169.496094 L 182.859375 182.859375 \"/>\n<path fill=\"none\" stroke-width=\"1\" stroke-linecap=\"butt\" stroke-linejoin=\"miter\" stroke=\"rgb(26.666667%, 26.666667%, 26.666667%)\" stroke-opacity=\"1\" stroke-miterlimit=\"10\" d=\"M 200.539062 200.539062 L 371.628906 371.628906 \"/>\n<path fill-rule=\"nonzero\" fill=\"rgb(26.666667%, 26.666667%, 26.666667%)\" fill-opacity=\"1\" d=\"M 381.714844 381.714844 L 368.351562 374.90625 L 374.90625 368.351562 L 381.714844 381.714844 \"/>\n<path fill=\"none\" stroke-width=\"1\" stroke-linecap=\"butt\" stroke-linejoin=\"miter\" stroke=\"rgb(26.666667%, 26.666667%, 26.666667%)\" stroke-opacity=\"1\" stroke-miterlimit=\"10\" d=\"M 399.394531 399.394531 L 552.234375 552.234375 \"/>\n<path fill-rule=\"nonzero\" fill=\"rgb(26.666667%, 26.666667%, 26.666667%)\" fill-opacity=\"1\" d=\"M 562.324219 562.324219 L 548.957031 555.511719 L 555.511719 548.957031 L 562.324219 562.324219 \"/>\n<path fill-rule=\"nonzero\" fill=\"rgb(100%, 0%, 0%)\" fill-opacity=\"1\" stroke-width=\"1\" stroke-linecap=\"butt\" stroke-linejoin=\"miter\" stroke=\"rgb(0%, 0%, 0%)\" stroke-opacity=\"1\" stroke-miterlimit=\"10\" d=\"M 45 20 C 45 33.808594 33.808594 45 20 45 C 6.191406 45 -5 33.808594 -5 20 C -5 6.191406 6.191406 -5 20 -5 C 33.808594 -5 45 6.191406 45 20 \"/>\n<path fill-rule=\"nonzero\" fill=\"rgb(100%, 0%, 0%)\" fill-opacity=\"1\" stroke-width=\"1\" stroke-linecap=\"butt\" stroke-linejoin=\"miter\" stroke=\"rgb(0%, 0%, 0%)\" stroke-opacity=\"1\" stroke-miterlimit=\"10\" d=\"M 225.539062 200.539062 C 225.539062 214.34375 214.34375 225.539062 200.539062 225.539062 C 186.730469 225.539062 175.539062 214.34375 175.539062 200.539062 C 175.539062 186.730469 186.730469 175.539062 200.539062 175.539062 C 214.34375 175.539062 225.539062 186.730469 225.539062 200.539062 \"/>\n<path fill-rule=\"nonzero\" fill=\"rgb(100%, 0%, 0%)\" fill-opacity=\"1\" stroke-width=\"1\" stroke-linecap=\"butt\" stroke-linejoin=\"miter\" stroke=\"rgb(0%, 0%, 0%)\" stroke-opacity=\"1\" stroke-miterlimit=\"10\" d=\"M 424.394531 399.394531 C 424.394531 413.199219 413.199219 424.394531 399.394531 424.394531 C 385.585938 424.394531 374.394531 413.199219 374.394531 399.394531 C 374.394531 385.585938 385.585938 374.394531 399.394531 374.394531 C 413.199219 374.394531 424.394531 385.585938 424.394531 399.394531 \"/>\n<path fill-rule=\"nonzero\" fill=\"rgb(100%, 0%, 0%)\" fill-opacity=\"1\" stroke-width=\"1\" stroke-linecap=\"butt\" stroke-linejoin=\"miter\" stroke=\"rgb(0%, 0%, 0%)\" stroke-opacity=\"1\" stroke-miterlimit=\"10\" d=\"M 605 580 C 605 593.808594 593.808594 605 580 605 C 566.191406 605 555 593.808594 555 580 C 555 566.191406 566.191406 555 580 555 C 593.808594 555 605 566.191406 605 580 \"/>\n<g fill=\"rgb(0%, 0%, 0%)\" fill-opacity=\"1\">\n<use xlink:href=\"#glyph-0-0\" x=\"16.148438\" y=\"26.957031\"/>\n</g>\n<g fill=\"rgb(0%, 0%, 0%)\" fill-opacity=\"1\">\n<use xlink:href=\"#glyph-0-1\" x=\"197.394531\" y=\"207.496094\"/>\n</g>\n<g fill=\"rgb(0%, 0%, 0%)\" fill-opacity=\"1\">\n<use xlink:href=\"#glyph-0-2\" x=\"395.578125\" y=\"406.351562\"/>\n</g>\n<g fill=\"rgb(0%, 0%, 0%)\" fill-opacity=\"1\">\n<use xlink:href=\"#glyph-0-3\" x=\"576.234375\" y=\"586.957031\"/>\n</g>\n<g fill=\"rgb(0%, 0%, 0%)\" fill-opacity=\"1\">\n<use xlink:href=\"#glyph-1-0\" x=\"109.847656\" y=\"111.632812\"/>\n</g>\n<g fill=\"rgb(0%, 0%, 0%)\" fill-opacity=\"1\">\n<use xlink:href=\"#glyph-1-1\" x=\"298.742188\" y=\"301.074219\"/>\n<use xlink:href=\"#glyph-1-2\" x=\"305.414188\" y=\"301.074219\"/>\n</g>\n<g fill=\"rgb(0%, 0%, 0%)\" fill-opacity=\"1\">\n<use xlink:href=\"#glyph-1-1\" x=\"488.472656\" y=\"499.621094\"/>\n<use xlink:href=\"#glyph-1-0\" x=\"495.144656\" y=\"499.621094\"/>\n</g>\n</svg>\n"
     },
     "execution_count": 7,
     "metadata": {
      "image/svg+xml": {
       "isolated": true
      }
     },
     "output_type": "execute_result"
    }
   ],
   "execution_count": 7
  }
 ],
 "metadata": {
  "kernelspec": {
   "display_name": "Python 3",
   "language": "python",
   "name": "python3"
  },
  "language_info": {
   "codemirror_mode": {
    "name": "ipython",
    "version": 2
   },
   "file_extension": ".py",
   "mimetype": "text/x-python",
   "name": "python",
   "nbconvert_exporter": "python",
   "pygments_lexer": "ipython2",
   "version": "2.7.6"
  }
 },
 "nbformat": 4,
 "nbformat_minor": 5
}
